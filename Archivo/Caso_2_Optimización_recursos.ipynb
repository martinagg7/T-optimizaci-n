{
 "cells": [
  {
   "cell_type": "markdown",
   "metadata": {},
   "source": [
    "# Código para optimizar probelmas de recursos\n"
   ]
  },
  {
   "cell_type": "markdown",
   "metadata": {},
   "source": [
    "# Asignación de recursos categóricos"
   ]
  },
  {
   "cell_type": "code",
   "execution_count": 4,
   "metadata": {},
   "outputs": [
    {
     "name": "stdout",
     "output_type": "stream",
     "text": [
      "La asignación óptima de recursos por categoría es: [3, 2, 1]\n",
      "El valor máximo obtenido es: 157.0\n"
     ]
    }
   ],
   "source": [
    "import numpy as np\n",
    "import pandas as pd\n",
    "import matplotlib.pyplot as plt\n",
    "import seaborn as sns\n",
    "\n",
    "def optimize_resource_allocation(resources, categories, value_matrix):\n",
    "    \"\"\"\n",
    "    Optimiza la asignación de recursos a categorías utilizando programación dinámica.\n",
    "\n",
    "    Parámetros:\n",
    "    resources (int): Número total de recursos disponibles.\n",
    "    categories (int): Número de categorías a las que se pueden asignar recursos.\n",
    "    value_matrix (numpy array): Matriz de valores donde value_matrix[i][j] representa el valor\n",
    "                                obtenido al asignar j+1 recursos a la categoría i+1.\n",
    "\n",
    "    Retorna:\n",
    "    tuple: Asignación óptima de recursos a cada categoría, el valor máximo obtenido y la tabla DP.\n",
    "    \"\"\"\n",
    "    # Inicializar tabla de programación dinámica\n",
    "    dp = np.zeros((categories + 1, resources + 1))\n",
    "\n",
    "    # Llenar la tabla de programación dinámica\n",
    "    for c in range(1, categories + 1):\n",
    "        for r in range(1, resources + 1):\n",
    "            max_value = 0\n",
    "            for k in range(0, r + 1):  # Número de recursos asignados a la categoría c\n",
    "                if c == 1:\n",
    "                    max_value = max(max_value, value_matrix[c-1][k])\n",
    "                else:\n",
    "                    max_value = max(max_value, dp[c-1][r-k] + value_matrix[c-1][k])\n",
    "            dp[c][r] = max_value\n",
    "\n",
    "    # Obtener la asignación óptima\n",
    "    assignment = [0] * categories\n",
    "    remaining_resources = resources\n",
    "    for c in range(categories, 0, -1):\n",
    "        for k in range(0, remaining_resources + 1):\n",
    "            if c == 1:\n",
    "                if dp[c][remaining_resources] == value_matrix[c-1][k]:\n",
    "                    assignment[c-1] = k\n",
    "                    remaining_resources -= k\n",
    "                    break\n",
    "            else:\n",
    "                if dp[c][remaining_resources] == dp[c-1][remaining_resources-k] + value_matrix[c-1][k]:\n",
    "                    assignment[c-1] = k\n",
    "                    remaining_resources -= k\n",
    "                    break\n",
    "\n",
    "    return assignment, dp[categories][resources], dp\n",
    "\n",
    "# Ejemplo de uso\n",
    "if __name__ == \"__main__\":\n",
    "    # Definir el número de recursos y categorías\n",
    "    num_resources = 5\n",
    "    num_categories = 3\n",
    "\n",
    "    # Definir la matriz de valores (años de vida adicionales por categoría para un número dado de recursos)\n",
    "    value_matrix = np.array([\n",
    "        [0, 45, 70, 90, 105, 120],   # Valores para el País 1\n",
    "        [0, 20, 45, 75, 110, 150],   # Valores para el País 2\n",
    "        [0, 50, 70, 80, 100, 130]    # Valores para el País 3\n",
    "    ])\n",
    "\n",
    "    # Optimizar la asignación de recursos\n",
    "    optimal_assignment, max_value, dp = optimize_resource_allocation(num_resources, num_categories, value_matrix)\n",
    "\n",
    "\n",
    "    # Mostrar los resultados\n",
    "    print(\"La asignación óptima de recursos por país es:\", optimal_assignment)\n",
    "    print(\"El valor máximo obtenido es:\", max_value)\n"
   ]
  },
  {
   "cell_type": "markdown",
   "metadata": {},
   "source": [
    "# Asignación de recursos con probabilidades"
   ]
  },
  {
   "cell_type": "code",
   "execution_count": 5,
   "metadata": {},
   "outputs": [
    {
     "name": "stdout",
     "output_type": "stream",
     "text": [
      "La asignación óptima : [1, 0, 1]\n",
      "La probabilidad mínima: 0.06\n"
     ]
    }
   ],
   "source": [
    "import numpy as np\n",
    "\n",
    "def minimize_failure_probability(num_resources, num_categories, failure_matrix):\n",
    "    # Inicializar tabla de programación dinámica con un valor grande\n",
    "    dp = np.full((num_categories + 1, num_resources + 1), np.inf)\n",
    "    dp[0][0] = 1  # Probabilidad de fallo inicial es neutra\n",
    "\n",
    "    # Llenar la tabla de programación dinámica\n",
    "    for b in range(1, num_categories + 1):\n",
    "        for m in range(num_resources + 1):\n",
    "            for k in range(0, min(num_resources, m) + 1): \n",
    "                dp[b][m] = min(dp[b][m], dp[b-1][m-k] * failure_matrix[b-1][k])\n",
    "\n",
    "    # Obtener la asignación óptima\n",
    "    assignment = [0] * num_categories\n",
    "    remaining_resources = num_resources  # Copia de num_resources\n",
    "    for b in range(num_categories, 0, -1):\n",
    "        for k in range(0, remaining_resources + 1):\n",
    "            if dp[b][remaining_resources] == dp[b-1][remaining_resources-k] * failure_matrix[b-1][k]:\n",
    "                assignment[b-1] = k\n",
    "                remaining_resources -= k\n",
    "                break\n",
    "\n",
    "    return assignment, dp[num_categories][num_resources], dp\n",
    "\n",
    "\n",
    "# Ejemplo de uso\n",
    "if __name__ == \"__main__\":\n",
    "    num_resources = 2\n",
    "    num_categories = 3\n",
    "\n",
    "    # Definir la matriz de probabilidades \n",
    "    failure_matrix = np.array([\n",
    "        [0.4, 0.2, 0.15],  \n",
    "        [0.6, 0.4, 0.2],  \n",
    "        [0.8, 0.5, 0.3]   \n",
    "    ])\n",
    "\n",
    "    # Optimizar la asignación \n",
    "    optimal_assignment, min_failure, dp = minimize_failure_probability(num_resources, num_categories, failure_matrix)\n",
    "\n",
    "    # Mostrar los resultados\n",
    "    print(\"La asignación óptima :\", optimal_assignment)\n",
    "    print(\"La probabilidad mínima:\", min_failure)\n"
   ]
  }
 ],
 "metadata": {
  "kernelspec": {
   "display_name": "Python 3",
   "language": "python",
   "name": "python3"
  },
  "language_info": {
   "codemirror_mode": {
    "name": "ipython",
    "version": 3
   },
   "file_extension": ".py",
   "mimetype": "text/x-python",
   "name": "python",
   "nbconvert_exporter": "python",
   "pygments_lexer": "ipython3",
   "version": "3.12.4"
  }
 },
 "nbformat": 4,
 "nbformat_minor": 2
}
