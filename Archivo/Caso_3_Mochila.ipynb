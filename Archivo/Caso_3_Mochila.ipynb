{
 "cells": [
  {
   "cell_type": "markdown",
   "metadata": {},
   "source": [
    "# Problemas de optimización tipo \"problema de la mochila\""
   ]
  },
  {
   "cell_type": "code",
   "execution_count": 5,
   "metadata": {},
   "outputs": [
    {
     "name": "stdout",
     "output_type": "stream",
     "text": [
      "El pago máximo que se puede obtener es: 90\n"
     ]
    }
   ],
   "source": [
    "# Definimos los datos del problema\n",
    "volumenes = [1, 3, 5]  # Volumen en m3 de cada artículo\n",
    "pagos = [11, 32, 58]   # Pago por unidad de cada artículo\n",
    "capacidad = 8          # Capacidad máxima del camión en m3\n",
    "n = len(volumenes)     # Número de artículos disponibles\n",
    "\n",
    "# Inicializamos una tabla para la programación dinámica\n",
    "dp = [[0 for x in range(capacidad + 1)] for x in range(n + 1)]\n",
    "\n",
    "# Llenamos la tabla de programación dinámica\n",
    "for i in range(1, n + 1):\n",
    "    for w in range(1, capacidad + 1):\n",
    "        if volumenes[i-1] <= w:\n",
    "            dp[i][w] = max(dp[i-1][w], pagos[i-1] + dp[i-1][w-volumenes[i-1]])\n",
    "        else:\n",
    "            dp[i][w] = dp[i-1][w]\n",
    "\n",
    "# El valor máximo posible es:\n",
    "max_pago = dp[n][capacidad]\n",
    "print(\"El pago máximo que se puede obtener es:\", max_pago)\n",
    "\n"
   ]
  }
 ],
 "metadata": {
  "language_info": {
   "name": "python"
  }
 },
 "nbformat": 4,
 "nbformat_minor": 2
}
